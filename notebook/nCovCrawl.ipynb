{
 "cells": [
  {
   "cell_type": "code",
   "execution_count": 3,
   "metadata": {},
   "outputs": [
    {
     "name": "stdout",
     "output_type": "stream",
     "text": [
      "WARNING: pip is being invoked by an old script wrapper. This will fail in a future version of pip.\n",
      "Please see https://github.com/pypa/pip/issues/5599 for advice on fixing the underlying issue.\n",
      "To avoid this problem you can invoke Python with '-m pip' instead of running pip directly.\n",
      "Requirement already satisfied: snownlp in /opt/conda/lib/python3.7/site-packages (0.12.3)\n",
      "WARNING: pip is being invoked by an old script wrapper. This will fail in a future version of pip.\n",
      "Please see https://github.com/pypa/pip/issues/5599 for advice on fixing the underlying issue.\n",
      "To avoid this problem you can invoke Python with '-m pip' instead of running pip directly.\n",
      "Requirement already satisfied: ggplot in /opt/conda/lib/python3.7/site-packages (0.11.5)\n",
      "Requirement already satisfied: six in /opt/conda/lib/python3.7/site-packages (from ggplot) (1.14.0)\n",
      "Requirement already satisfied: cycler in /opt/conda/lib/python3.7/site-packages (from ggplot) (0.10.0)\n",
      "Requirement already satisfied: statsmodels in /opt/conda/lib/python3.7/site-packages (from ggplot) (0.11.0)\n",
      "Requirement already satisfied: numpy in /opt/conda/lib/python3.7/site-packages (from ggplot) (1.17.5)\n",
      "Requirement already satisfied: pandas in /opt/conda/lib/python3.7/site-packages (from ggplot) (0.25.3)\n",
      "Requirement already satisfied: patsy>=0.4 in /opt/conda/lib/python3.7/site-packages (from ggplot) (0.5.1)\n",
      "Requirement already satisfied: scipy in /opt/conda/lib/python3.7/site-packages (from ggplot) (1.4.1)\n",
      "Requirement already satisfied: matplotlib in /opt/conda/lib/python3.7/site-packages (from ggplot) (3.1.1)\n",
      "Requirement already satisfied: brewer2mpl in /opt/conda/lib/python3.7/site-packages (from ggplot) (1.4.1)\n",
      "Requirement already satisfied: pytz>=2017.2 in /opt/conda/lib/python3.7/site-packages (from pandas->ggplot) (2019.3)\n",
      "Requirement already satisfied: python-dateutil>=2.6.1 in /opt/conda/lib/python3.7/site-packages (from pandas->ggplot) (2.8.1)\n",
      "Requirement already satisfied: kiwisolver>=1.0.1 in /opt/conda/lib/python3.7/site-packages (from matplotlib->ggplot) (1.1.0)\n",
      "Requirement already satisfied: pyparsing!=2.0.4,!=2.1.2,!=2.1.6,>=2.0.1 in /opt/conda/lib/python3.7/site-packages (from matplotlib->ggplot) (2.4.6)\n",
      "Requirement already satisfied: setuptools in /opt/conda/lib/python3.7/site-packages (from kiwisolver>=1.0.1->matplotlib->ggplot) (45.1.0.post20200119)\n"
     ]
    }
   ],
   "source": [
    "# install and import package\n",
    "!pip install  snownlp\n",
    "!pip install  ggplot\n",
    "import pandas\n",
    "import requests\n",
    "from snownlp import SnowNLP\n",
    "from bs4 import BeautifulSoup\n"
   ]
  },
  {
   "cell_type": "code",
   "execution_count": 35,
   "metadata": {},
   "outputs": [],
   "source": [
    "# 下載微博武漢肺炎相關貼文\n",
    "def download_Cov_data(max):\n",
    "    articles = []\n",
    "    for i in range(1,max):\n",
    "        res = requests.get('https://m.weibo.cn/api/container/getIndex?containerid=231522type%3D1%26q%3D%23%E6%AD%A6%E6%B1%89%E8%82%BA%E7%82%8E%23&page_type=searchall&page={}'.format(i))\n",
    "        jd = res.json()\n",
    "        articles.extend([rec['mblog'] for rec in jd['data']['cards'] if rec.get('mblog')])\n",
    "\n",
    "    return pandas.DataFrame(articles)\n",
    "# 撈1~50頁資料\n",
    "df = download_Cov_data(50)\n"
   ]
  },
  {
   "cell_type": "code",
   "execution_count": 40,
   "metadata": {},
   "outputs": [],
   "source": [
    "# 取出貼文資料\n",
    "def parseArticle(e):\n",
    "    soup = BeautifulSoup(e, 'html.parser')\n",
    "    return soup.text\n",
    "\n",
    "def parseQueryTime(e):\n",
    "    return e.split('&qtime=')[1].replace(\"&\",\"\")\n",
    "\n",
    "text_data=df['text'].map(parseArticle)\n",
    "query_time_data=df['itemid'].map(parseQueryTime)"
   ]
  },
  {
   "cell_type": "code",
   "execution_count": 41,
   "metadata": {},
   "outputs": [],
   "source": [
    "# 進行每編貼文的情緒分析\n",
    "\n",
    "def getSentenment(e):\n",
    "    s = SnowNLP(e)\n",
    "    return s.sentiments\n",
    "\n",
    "sentiments_data=text_data.map(getSentenment)\n",
    "\n",
    "dict = {\n",
    "    \"查詢時間\":query_time_data,\n",
    "    \"貼文內容\": text_data,  \n",
    "     \"情緒分數\": sentiments_data\n",
    "       }\n",
    "\n",
    "select_df = pandas.DataFrame(dict)"
   ]
  },
  {
   "cell_type": "code",
   "execution_count": 42,
   "metadata": {},
   "outputs": [],
   "source": [
    "# 輸出分析結果至terminal\n",
    "sorted_data= select_df.sort_values(by = '情緒分數',ascending = False)#\n",
    "sorted_data\n",
    "\n",
    "# 輸出分析結果至export_dataframe.csv檔\n",
    "# 情緒分數>0  =>  正面情緒\n",
    "# 情緒分數<=0  => 負面情緒\n",
    "sorted_data.to_csv (r'export_dataframe.csv', index = None, header=True) #Don't forget to add '.csv' at the end of the path\n"
   ]
  },
  {
   "cell_type": "code",
   "execution_count": null,
   "metadata": {},
   "outputs": [],
   "source": []
  }
 ],
 "metadata": {
  "kernelspec": {
   "display_name": "Python 3",
   "language": "python",
   "name": "python3"
  },
  "language_info": {
   "codemirror_mode": {
    "name": "ipython",
    "version": 3
   },
   "file_extension": ".py",
   "mimetype": "text/x-python",
   "name": "python",
   "nbconvert_exporter": "python",
   "pygments_lexer": "ipython3",
   "version": "3.7.4"
  }
 },
 "nbformat": 4,
 "nbformat_minor": 4
}

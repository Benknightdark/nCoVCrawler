{
 "cells": [
  {
   "cell_type": "code",
   "execution_count": 3,
   "metadata": {},
   "outputs": [
    {
     "name": "stdout",
     "output_type": "stream",
     "text": [
      "WARNING: pip is being invoked by an old script wrapper. This will fail in a future version of pip.\n",
      "Please see https://github.com/pypa/pip/issues/5599 for advice on fixing the underlying issue.\n",
      "To avoid this problem you can invoke Python with '-m pip' instead of running pip directly.\n",
      "Requirement already satisfied: snownlp in /opt/conda/lib/python3.7/site-packages (0.12.3)\n",
      "WARNING: pip is being invoked by an old script wrapper. This will fail in a future version of pip.\n",
      "Please see https://github.com/pypa/pip/issues/5599 for advice on fixing the underlying issue.\n",
      "To avoid this problem you can invoke Python with '-m pip' instead of running pip directly.\n",
      "Requirement already satisfied: ggplot in /opt/conda/lib/python3.7/site-packages (0.11.5)\n",
      "Requirement already satisfied: six in /opt/conda/lib/python3.7/site-packages (from ggplot) (1.14.0)\n",
      "Requirement already satisfied: cycler in /opt/conda/lib/python3.7/site-packages (from ggplot) (0.10.0)\n",
      "Requirement already satisfied: statsmodels in /opt/conda/lib/python3.7/site-packages (from ggplot) (0.11.0)\n",
      "Requirement already satisfied: numpy in /opt/conda/lib/python3.7/site-packages (from ggplot) (1.17.5)\n",
      "Requirement already satisfied: pandas in /opt/conda/lib/python3.7/site-packages (from ggplot) (0.25.3)\n",
      "Requirement already satisfied: patsy>=0.4 in /opt/conda/lib/python3.7/site-packages (from ggplot) (0.5.1)\n",
      "Requirement already satisfied: scipy in /opt/conda/lib/python3.7/site-packages (from ggplot) (1.4.1)\n",
      "Requirement already satisfied: matplotlib in /opt/conda/lib/python3.7/site-packages (from ggplot) (3.1.1)\n",
      "Requirement already satisfied: brewer2mpl in /opt/conda/lib/python3.7/site-packages (from ggplot) (1.4.1)\n",
      "Requirement already satisfied: pytz>=2017.2 in /opt/conda/lib/python3.7/site-packages (from pandas->ggplot) (2019.3)\n",
      "Requirement already satisfied: python-dateutil>=2.6.1 in /opt/conda/lib/python3.7/site-packages (from pandas->ggplot) (2.8.1)\n",
      "Requirement already satisfied: kiwisolver>=1.0.1 in /opt/conda/lib/python3.7/site-packages (from matplotlib->ggplot) (1.1.0)\n",
      "Requirement already satisfied: pyparsing!=2.0.4,!=2.1.2,!=2.1.6,>=2.0.1 in /opt/conda/lib/python3.7/site-packages (from matplotlib->ggplot) (2.4.6)\n",
      "Requirement already satisfied: setuptools in /opt/conda/lib/python3.7/site-packages (from kiwisolver>=1.0.1->matplotlib->ggplot) (45.1.0.post20200119)\n"
     ]
    }
   ],
   "source": [
    "!pip install  snownlp\n",
    "!pip install  ggplot\n",
    "import pandas\n",
    "import requests\n",
    "from snownlp import SnowNLP\n",
    "from bs4 import BeautifulSoup\n"
   ]
  },
  {
   "cell_type": "code",
   "execution_count": 11,
   "metadata": {},
   "outputs": [],
   "source": [
    "# 下載微博武漢肺炎相關貼文\n",
    "import requests\n",
    "import pandas\n",
    "articles = []\n",
    "# 撈1~5頁資料\n",
    "for i in range(1,20):\n",
    "    res = requests.get('https://m.weibo.cn/api/container/getIndex?containerid=231522type%3D1%26q%3D%23%E6%AD%A6%E6%B1%89%E8%82%BA%E7%82%8E%23&page_type=searchall&page={}'.format(i))\n",
    "    jd = res.json()\n",
    "    articles.extend([rec['mblog'] for rec in jd['data']['cards'] if rec.get('mblog')])\n",
    "    \n",
    "df = pandas.DataFrame(articles)"
   ]
  },
  {
   "cell_type": "code",
   "execution_count": 12,
   "metadata": {},
   "outputs": [],
   "source": [
    "# 取出貼文資料\n",
    "def parseArticle(e):\n",
    "    soup = BeautifulSoup(e, 'html.parser')\n",
    "    return soup.text\n",
    "\n",
    "ndata=df['text'].map(parseArticle)\n"
   ]
  },
  {
   "cell_type": "code",
   "execution_count": 13,
   "metadata": {},
   "outputs": [],
   "source": [
    "# 進行每編貼文的情緒分析\n",
    "\n",
    "def getSentenment(e):\n",
    "    s = SnowNLP(e)\n",
    "    return s.sentiments\n",
    "\n",
    "sentiments_data=ndata.map(getSentenment)\n",
    "\n",
    "dict = {\"貼文內容\": ndata,  \n",
    "        \"情緒分數\": sentiments_data\n",
    "       }\n",
    "\n",
    "select_df = pandas.DataFrame(dict)"
   ]
  },
  {
   "cell_type": "code",
   "execution_count": 16,
   "metadata": {},
   "outputs": [],
   "source": [
    "# 輸出分析結果至terminal\n",
    "sorted_data= select_df.sort_values(by = '情緒分數',ascending = False)\n",
    "sorted_data\n",
    "\n",
    "# 輸出分析結果至export_dataframe.csv檔\n",
    "sorted_data.to_csv (r'export_dataframe.csv', index = None, header=True) #Don't forget to add '.csv' at the end of the path\n"
   ]
  },
  {
   "cell_type": "code",
   "execution_count": 15,
   "metadata": {},
   "outputs": [
    {
     "data": {
      "text/html": [
       "<div>\n",
       "<style scoped>\n",
       "    .dataframe tbody tr th:only-of-type {\n",
       "        vertical-align: middle;\n",
       "    }\n",
       "\n",
       "    .dataframe tbody tr th {\n",
       "        vertical-align: top;\n",
       "    }\n",
       "\n",
       "    .dataframe thead th {\n",
       "        text-align: right;\n",
       "    }\n",
       "</style>\n",
       "<table border=\"1\" class=\"dataframe\">\n",
       "  <thead>\n",
       "    <tr style=\"text-align: right;\">\n",
       "      <th></th>\n",
       "      <th>貼文內容</th>\n",
       "      <th>情緒分數</th>\n",
       "    </tr>\n",
       "  </thead>\n",
       "  <tbody>\n",
       "    <tr>\n",
       "      <th>0</th>\n",
       "      <td>【存粮告急！请求援助！！】#猛禽保护#受#武汉肺炎# 疫情的影响，我们中心 #买不到给猛禽吃...</td>\n",
       "      <td>1.489048e-03</td>\n",
       "    </tr>\n",
       "    <tr>\n",
       "      <th>1</th>\n",
       "      <td>#武汉肺炎##武汉新型冠状病毒感染肺炎防控专题# 武汉“万家宴”社区百步亭确诊多例新冠肺炎 ...</td>\n",
       "      <td>4.080960e-04</td>\n",
       "    </tr>\n",
       "    <tr>\n",
       "      <th>2</th>\n",
       "      <td>#武汉肺炎# 【如果用灾难片的方式打开武汉肺炎】我把这场灾难片取了个名字，叫《肺炎入侵》不只...</td>\n",
       "      <td>9.999595e-01</td>\n",
       "    </tr>\n",
       "    <tr>\n",
       "      <th>3</th>\n",
       "      <td>#女子拒接受防疫检查骂人吐口水# 现在女人👩戾气太重女网友更是这样，#武汉肺炎# 疫情之前，...</td>\n",
       "      <td>1.482791e-06</td>\n",
       "    </tr>\n",
       "    <tr>\n",
       "      <th>4</th>\n",
       "      <td>#武汉肺炎# 武汉市硚口区解放大道要拆迁的扬子江大厦为啥不被征用去做方舱酒店 这么好的条件？...</td>\n",
       "      <td>5.473867e-03</td>\n",
       "    </tr>\n",
       "    <tr>\n",
       "      <th>...</th>\n",
       "      <td>...</td>\n",
       "      <td>...</td>\n",
       "    </tr>\n",
       "    <tr>\n",
       "      <th>181</th>\n",
       "      <td>武汉吧友想象力十足，要把病毒吃掉#新型冠状病毒##武汉肺炎##今天立春#</td>\n",
       "      <td>1.356478e-02</td>\n",
       "    </tr>\n",
       "    <tr>\n",
       "      <th>182</th>\n",
       "      <td>【国内疫情最新数据】#武汉肺炎# 2月4日19:30</td>\n",
       "      <td>7.941569e-03</td>\n",
       "    </tr>\n",
       "    <tr>\n",
       "      <th>183</th>\n",
       "      <td>肺炎超话#比利时新型肺炎疫情# @梨视频 【#比利时确诊首例新冠病毒肺炎患者#：#从武汉撤侨...</td>\n",
       "      <td>1.913450e-09</td>\n",
       "    </tr>\n",
       "    <tr>\n",
       "      <th>184</th>\n",
       "      <td>#武汉肺炎# 还没有结束，大家千万不要出门。现在外面正是病毒扩散#疫情仍处于扩散阶段# 的高...</td>\n",
       "      <td>1.291019e-02</td>\n",
       "    </tr>\n",
       "    <tr>\n",
       "      <th>185</th>\n",
       "      <td>（照片：@欲伴小夜曲 ）“从仙界吹来的风把湖面熨帖成镜此刻需要一位仙女把人间的不值得都变成欢...</td>\n",
       "      <td>9.896282e-01</td>\n",
       "    </tr>\n",
       "  </tbody>\n",
       "</table>\n",
       "<p>186 rows × 2 columns</p>\n",
       "</div>"
      ],
      "text/plain": [
       "                                                  貼文內容          情緒分數\n",
       "0    【存粮告急！请求援助！！】#猛禽保护#受#武汉肺炎# 疫情的影响，我们中心 #买不到给猛禽吃...  1.489048e-03\n",
       "1    #武汉肺炎##武汉新型冠状病毒感染肺炎防控专题# 武汉“万家宴”社区百步亭确诊多例新冠肺炎 ...  4.080960e-04\n",
       "2    #武汉肺炎# 【如果用灾难片的方式打开武汉肺炎】我把这场灾难片取了个名字，叫《肺炎入侵》不只...  9.999595e-01\n",
       "3    #女子拒接受防疫检查骂人吐口水# 现在女人👩戾气太重女网友更是这样，#武汉肺炎# 疫情之前，...  1.482791e-06\n",
       "4    #武汉肺炎# 武汉市硚口区解放大道要拆迁的扬子江大厦为啥不被征用去做方舱酒店 这么好的条件？...  5.473867e-03\n",
       "..                                                 ...           ...\n",
       "181              武汉吧友想象力十足，要把病毒吃掉#新型冠状病毒##武汉肺炎##今天立春#   1.356478e-02\n",
       "182                        【国内疫情最新数据】#武汉肺炎# 2月4日19:30   7.941569e-03\n",
       "183  肺炎超话#比利时新型肺炎疫情# @梨视频 【#比利时确诊首例新冠病毒肺炎患者#：#从武汉撤侨...  1.913450e-09\n",
       "184  #武汉肺炎# 还没有结束，大家千万不要出门。现在外面正是病毒扩散#疫情仍处于扩散阶段# 的高...  1.291019e-02\n",
       "185  （照片：@欲伴小夜曲 ）“从仙界吹来的风把湖面熨帖成镜此刻需要一位仙女把人间的不值得都变成欢...  9.896282e-01\n",
       "\n",
       "[186 rows x 2 columns]"
      ]
     },
     "execution_count": 15,
     "metadata": {},
     "output_type": "execute_result"
    }
   ],
   "source": [
    "select_df"
   ]
  },
  {
   "cell_type": "code",
   "execution_count": null,
   "metadata": {},
   "outputs": [],
   "source": []
  }
 ],
 "metadata": {
  "kernelspec": {
   "display_name": "Python 3",
   "language": "python",
   "name": "python3"
  },
  "language_info": {
   "codemirror_mode": {
    "name": "ipython",
    "version": 3
   },
   "file_extension": ".py",
   "mimetype": "text/x-python",
   "name": "python",
   "nbconvert_exporter": "python",
   "pygments_lexer": "ipython3",
   "version": "3.7.4"
  }
 },
 "nbformat": 4,
 "nbformat_minor": 4
}

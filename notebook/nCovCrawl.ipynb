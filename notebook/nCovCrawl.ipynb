{
 "cells": [
  {
   "cell_type": "code",
   "execution_count": 1,
   "metadata": {},
   "outputs": [],
   "source": [
    "import requests\n",
    "res = requests.get('https://m.weibo.cn/api/container/getIndex?containerid=231522type%3D1%26q%3D%23%E6%AD%A6%E6%B1%89%E8%82%BA%E7%82%8E%23&page_type=searchall&page=4')\n",
    "jd = res.json()"
   ]
  },
  {
   "cell_type": "code",
   "execution_count": 2,
   "metadata": {},
   "outputs": [],
   "source": [
    "import pandas\n",
    "articles = [rec['mblog'] for rec in jd['data']['cards'] if rec.get('mblog')]\n",
    "df = pandas.DataFrame(articles)"
   ]
  },
  {
   "cell_type": "code",
   "execution_count": 3,
   "metadata": {},
   "outputs": [
    {
     "data": {
      "text/plain": [
       "0    新款移动自主消毒机器人🤖<br />消毒机器人适用于：隔离室、传染病房、手术室、诊疗室、换药...\n",
       "1    我们小区有12个人感染，这可怎么办。<span class=\"url-icon\"><img ...\n",
       "2    唉 第二批 武漢台人無法返鄉<br />湖北台商自救會長徐正文痛哭😭<br />希望台當局減...\n",
       "3    <a  href=\"https://m.weibo.cn/search?containeri...\n",
       "4    <a  href=\"https://m.weibo.cn/search?containeri...\n",
       "5    开工之时即是狂风暴雨之日，世界崩塌，而未来却艰难坎坷，迷雾重重，活力花今天到期，前几天申请延...\n",
       "6    在家工作，家里办公第一天，工作前后凌乱度<a  href=\"https://m.weibo....\n",
       "7    <a  href=\"https://m.weibo.cn/search?containeri...\n",
       "8    恐怖的感染率，前几天日韩等国家撤侨过程中全员检测的感染率在1%~2%之间，相比来说武汉的确诊...\n",
       "Name: text, dtype: object"
      ]
     },
     "execution_count": 3,
     "metadata": {},
     "output_type": "execute_result"
    }
   ],
   "source": [
    "df['text']"
   ]
  },
  {
   "cell_type": "code",
   "execution_count": 14,
   "metadata": {},
   "outputs": [],
   "source": [
    "import requests\n",
    "articles = []\n",
    "for i in range(1,20):\n",
    "    res = requests.get('https://m.weibo.cn/api/container/getIndex?containerid=231522type%3D1%26q%3D%23%E6%AD%A6%E6%B1%89%E8%82%BA%E7%82%8E%23&page_type=searchall&page={}'.format(i))\n",
    "    jd = res.json()\n",
    "    articles.extend([rec['mblog'] for rec in jd['data']['cards'] if rec.get('mblog')])\n",
    "    \n",
    "df = pandas.DataFrame(articles)"
   ]
  },
  {
   "cell_type": "code",
   "execution_count": 15,
   "metadata": {},
   "outputs": [],
   "source": [
    "from bs4 import BeautifulSoup\n",
    "def parseArticle(e):\n",
    "    soup = BeautifulSoup(e, 'html.parser')\n",
    "    return soup.text\n",
    "\n",
    "ndata=df['text'].map(parseArticle)\n"
   ]
  },
  {
   "cell_type": "code",
   "execution_count": 17,
   "metadata": {},
   "outputs": [
    {
     "data": {
      "text/plain": [
       "'【存粮告急！请求援助！！】#猛禽保护#受#武汉肺炎# 疫情的影响，我们中心 #买不到给猛禽吃的肉了# ，目前储备的食物不足以维持一周，现向大家（尤其是大理州地区）求援，具体要求见图5⃣️，恳请大家多多转发帮助！ '"
      ]
     },
     "execution_count": 17,
     "metadata": {},
     "output_type": "execute_result"
    }
   ],
   "source": [
    "ndata[0]"
   ]
  },
  {
   "cell_type": "code",
   "execution_count": null,
   "metadata": {},
   "outputs": [],
   "source": []
  }
 ],
 "metadata": {
  "kernelspec": {
   "display_name": "Python 3",
   "language": "python",
   "name": "python3"
  },
  "language_info": {
   "codemirror_mode": {
    "name": "ipython",
    "version": 3
   },
   "file_extension": ".py",
   "mimetype": "text/x-python",
   "name": "python",
   "nbconvert_exporter": "python",
   "pygments_lexer": "ipython3",
   "version": "3.7.4"
  }
 },
 "nbformat": 4,
 "nbformat_minor": 4
}
